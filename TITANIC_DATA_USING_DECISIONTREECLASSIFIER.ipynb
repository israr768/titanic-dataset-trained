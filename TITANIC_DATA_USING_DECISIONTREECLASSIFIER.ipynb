{
  "metadata": {
    "kernelspec": {
      "language": "python",
      "display_name": "Python 3",
      "name": "python3"
    },
    "language_info": {
      "name": "python",
      "version": "3.10.12",
      "mimetype": "text/x-python",
      "codemirror_mode": {
        "name": "ipython",
        "version": 3
      },
      "pygments_lexer": "ipython3",
      "nbconvert_exporter": "python",
      "file_extension": ".py"
    },
    "kaggle": {
      "accelerator": "none",
      "dataSources": [
        {
          "sourceId": 6690061,
          "sourceType": "datasetVersion",
          "datasetId": 3857791
        }
      ],
      "dockerImageVersionId": 30558,
      "isInternetEnabled": false,
      "language": "python",
      "sourceType": "notebook",
      "isGpuEnabled": false
    },
    "colab": {
      "name": "TITANIC DATA USING DECISIONTREECLASSIFIER",
      "provenance": [],
      "include_colab_link": true
    }
  },
  "nbformat_minor": 0,
  "nbformat": 4,
  "cells": [
    {
      "cell_type": "markdown",
      "metadata": {
        "id": "view-in-github",
        "colab_type": "text"
      },
      "source": [
        "<a href=\"https://colab.research.google.com/github/israr768/titanic-dataset-trained/blob/main/TITANIC_DATA_USING_DECISIONTREECLASSIFIER.ipynb\" target=\"_parent\"><img src=\"https://colab.research.google.com/assets/colab-badge.svg\" alt=\"Open In Colab\"/></a>"
      ]
    },
    {
      "source": [
        "# IMPORTANT: RUN THIS CELL IN ORDER TO IMPORT YOUR KAGGLE DATA SOURCES,\n",
        "# THEN FEEL FREE TO DELETE THIS CELL.\n",
        "# NOTE: THIS NOTEBOOK ENVIRONMENT DIFFERS FROM KAGGLE'S PYTHON\n",
        "# ENVIRONMENT SO THERE MAY BE MISSING LIBRARIES USED BY YOUR\n",
        "# NOTEBOOK.\n",
        "import kagglehub\n",
        "nikhilreddyvantari_titanic_dataset_using_decision_tree_classifier_path = kagglehub.dataset_download('nikhilreddyvantari/titanic-dataset-using-decision-tree-classifier')\n",
        "\n",
        "print('Data source import complete.')\n"
      ],
      "metadata": {
        "id": "UORWUZjFaYix"
      },
      "cell_type": "code",
      "outputs": [],
      "execution_count": null
    },
    {
      "cell_type": "code",
      "source": [
        "# This Python 3 environment comes with many helpful analytics libraries installed\n",
        "# It is defined by the kaggle/python Docker image: https://github.com/kaggle/docker-python\n",
        "# For example, here's several helpful packages to load\n",
        "\n",
        "import numpy as np # linear algebra\n",
        "import pandas as pd # data processing, CSV file I/O (e.g. pd.read_csv)\n",
        "\n",
        "# Input data files are available in the read-only \"../input/\" directory\n",
        "# For example, running this (by clicking run or pressing Shift+Enter) will list all files under the input directory\n",
        "\n",
        "import os\n",
        "for dirname, _, filenames in os.walk('/kaggle/input'):\n",
        "    for filename in filenames:\n",
        "        print(os.path.join(dirname, filename))\n",
        "\n",
        "# You can write up to 20GB to the current directory (/kaggle/working/) that gets preserved as output when you create a version using \"Save & Run All\"\n",
        "# You can also write temporary files to /kaggle/temp/, but they won't be saved outside of the current session"
      ],
      "metadata": {
        "_uuid": "8f2839f25d086af736a60e9eeb907d3b93b6e0e5",
        "_cell_guid": "b1076dfc-b9ad-4769-8c92-a6c4dae69d19",
        "execution": {
          "iopub.status.busy": "2023-10-14T04:53:13.11566Z",
          "iopub.execute_input": "2023-10-14T04:53:13.116026Z",
          "iopub.status.idle": "2023-10-14T04:53:13.126963Z",
          "shell.execute_reply.started": "2023-10-14T04:53:13.116Z",
          "shell.execute_reply": "2023-10-14T04:53:13.125193Z"
        },
        "trusted": true,
        "id": "5kvi_0STaYiy"
      },
      "outputs": [],
      "execution_count": null
    },
    {
      "cell_type": "code",
      "source": [
        "import os\n",
        "import numpy as np\n",
        "import pandas as pd\n",
        "import matplotlib.pyplot as plt\n",
        "import seaborn as sns\n",
        "sns.set()\n",
        "%matplotlib inline\n",
        "\n",
        "import warnings\n",
        "warnings.filterwarnings('ignore')"
      ],
      "metadata": {
        "execution": {
          "iopub.status.busy": "2023-10-14T04:53:04.520385Z",
          "iopub.execute_input": "2023-10-14T04:53:04.520709Z",
          "iopub.status.idle": "2023-10-14T04:53:04.527579Z",
          "shell.execute_reply.started": "2023-10-14T04:53:04.520685Z",
          "shell.execute_reply": "2023-10-14T04:53:04.526254Z"
        },
        "trusted": true,
        "id": "Mg4nsFdyaYiz"
      },
      "outputs": [],
      "execution_count": null
    },
    {
      "cell_type": "code",
      "source": [
        "titanic = pd.read_csv('titanic.csv')\n",
        "titanic"
      ],
      "metadata": {
        "execution": {
          "iopub.status.busy": "2023-10-14T04:55:10.563927Z",
          "iopub.execute_input": "2023-10-14T04:55:10.564349Z",
          "iopub.status.idle": "2023-10-14T04:55:10.586512Z",
          "shell.execute_reply.started": "2023-10-14T04:55:10.564313Z",
          "shell.execute_reply": "2023-10-14T04:55:10.585657Z"
        },
        "trusted": true,
        "id": "su0fN_sYaYiz"
      },
      "outputs": [],
      "execution_count": null
    },
    {
      "cell_type": "code",
      "source": [
        "titanic.shape"
      ],
      "metadata": {
        "execution": {
          "iopub.status.busy": "2024-12-07T13:53:11.51533Z",
          "iopub.execute_input": "2024-12-07T13:53:11.515881Z",
          "iopub.status.idle": "2024-12-07T13:53:11.816626Z",
          "shell.execute_reply.started": "2024-12-07T13:53:11.515815Z",
          "shell.execute_reply": "2024-12-07T13:53:11.815014Z"
        },
        "trusted": true,
        "id": "hBMDxD_VaYi0",
        "outputId": "33a0ab08-1b5b-4687-db53-46285a9fa086",
        "colab": {
          "base_uri": "https://localhost:8080/",
          "height": 141
        }
      },
      "outputs": [
        {
          "output_type": "error",
          "ename": "NameError",
          "evalue": "name 'titanic' is not defined",
          "traceback": [
            "\u001b[0;31m---------------------------------------------------------------------------\u001b[0m",
            "\u001b[0;31mNameError\u001b[0m                                 Traceback (most recent call last)",
            "\u001b[0;32m<ipython-input-1-f7a69aa74daa>\u001b[0m in \u001b[0;36m<cell line: 1>\u001b[0;34m()\u001b[0m\n\u001b[0;32m----> 1\u001b[0;31m \u001b[0mtitanic\u001b[0m\u001b[0;34m.\u001b[0m\u001b[0mshape\u001b[0m\u001b[0;34m\u001b[0m\u001b[0;34m\u001b[0m\u001b[0m\n\u001b[0m",
            "\u001b[0;31mNameError\u001b[0m: name 'titanic' is not defined"
          ]
        }
      ],
      "execution_count": 1
    },
    {
      "cell_type": "code",
      "source": [
        "from google.colab import drive\n",
        "drive.mount('/content/drive')"
      ],
      "metadata": {
        "id": "FUqfnJWdbShc"
      },
      "execution_count": null,
      "outputs": []
    },
    {
      "cell_type": "code",
      "source": [
        "titanic.info()"
      ],
      "metadata": {
        "execution": {
          "iopub.status.busy": "2024-12-07T13:55:26.310009Z",
          "iopub.execute_input": "2024-12-07T13:55:26.310486Z",
          "iopub.status.idle": "2024-12-07T13:55:26.334548Z",
          "shell.execute_reply.started": "2024-12-07T13:55:26.310371Z",
          "shell.execute_reply": "2024-12-07T13:55:26.333019Z"
        },
        "trusted": true,
        "id": "zF6m3csoaYi1",
        "outputId": "a7ddf107-a3a3-409a-b367-a6f98be4b70e"
      },
      "outputs": [
        {
          "traceback": [
            "\u001b[0;31m---------------------------------------------------------------------------\u001b[0m",
            "\u001b[0;31mNameError\u001b[0m                                 Traceback (most recent call last)",
            "Cell \u001b[0;32mIn[3], line 1\u001b[0m\n\u001b[0;32m----> 1\u001b[0m \u001b[43mtitanic\u001b[49m\u001b[38;5;241m.\u001b[39minfo()\n",
            "\u001b[0;31mNameError\u001b[0m: name 'titanic' is not defined"
          ],
          "ename": "NameError",
          "evalue": "name 'titanic' is not defined",
          "output_type": "error"
        }
      ],
      "execution_count": null
    },
    {
      "cell_type": "code",
      "source": [
        "df = titanic.drop(['Name', 'Age','Ticket','PassengerId'], axis =1)"
      ],
      "metadata": {
        "execution": {
          "iopub.status.busy": "2023-10-14T04:55:35.709638Z",
          "iopub.execute_input": "2023-10-14T04:55:35.709949Z",
          "iopub.status.idle": "2023-10-14T04:55:35.716519Z",
          "shell.execute_reply.started": "2023-10-14T04:55:35.709926Z",
          "shell.execute_reply": "2023-10-14T04:55:35.715677Z"
        },
        "trusted": true,
        "id": "5Cq_ZkeoaYi1"
      },
      "outputs": [],
      "execution_count": null
    },
    {
      "cell_type": "code",
      "source": [
        "df.head()"
      ],
      "metadata": {
        "execution": {
          "iopub.status.busy": "2023-10-14T04:55:44.73409Z",
          "iopub.execute_input": "2023-10-14T04:55:44.734409Z",
          "iopub.status.idle": "2023-10-14T04:55:44.745569Z",
          "shell.execute_reply.started": "2023-10-14T04:55:44.734384Z",
          "shell.execute_reply": "2023-10-14T04:55:44.743881Z"
        },
        "trusted": true,
        "id": "5ijituxbaYi2"
      },
      "outputs": [],
      "execution_count": null
    },
    {
      "cell_type": "code",
      "source": [
        "df.isnull().sum()/len(df)*100"
      ],
      "metadata": {
        "execution": {
          "iopub.status.busy": "2023-10-14T04:55:59.36834Z",
          "iopub.execute_input": "2023-10-14T04:55:59.368659Z",
          "iopub.status.idle": "2023-10-14T04:55:59.378247Z",
          "shell.execute_reply.started": "2023-10-14T04:55:59.368634Z",
          "shell.execute_reply": "2023-10-14T04:55:59.377072Z"
        },
        "trusted": true,
        "id": "aoOF1WdzaYi2"
      },
      "outputs": [],
      "execution_count": null
    },
    {
      "cell_type": "code",
      "source": [
        "df.drop('Cabin', axis=1, inplace =True)"
      ],
      "metadata": {
        "execution": {
          "iopub.status.busy": "2023-10-14T04:56:32.630489Z",
          "iopub.execute_input": "2023-10-14T04:56:32.630786Z",
          "iopub.status.idle": "2023-10-14T04:56:32.636353Z",
          "shell.execute_reply.started": "2023-10-14T04:56:32.630762Z",
          "shell.execute_reply": "2023-10-14T04:56:32.635205Z"
        },
        "trusted": true,
        "id": "TXUhiXTgaYi2"
      },
      "outputs": [],
      "execution_count": null
    },
    {
      "cell_type": "code",
      "source": [
        "df['Embarked'].value_counts()"
      ],
      "metadata": {
        "execution": {
          "iopub.status.busy": "2023-10-14T04:56:42.4993Z",
          "iopub.execute_input": "2023-10-14T04:56:42.499734Z",
          "iopub.status.idle": "2023-10-14T04:56:42.506726Z",
          "shell.execute_reply.started": "2023-10-14T04:56:42.499714Z",
          "shell.execute_reply": "2023-10-14T04:56:42.50568Z"
        },
        "trusted": true,
        "id": "CN-Ir9F2aYi3"
      },
      "outputs": [],
      "execution_count": null
    },
    {
      "cell_type": "code",
      "source": [
        "df['Embarked'] = np.where(df['Embarked']== 'nan','S',df['Embarked'])"
      ],
      "metadata": {
        "execution": {
          "iopub.status.busy": "2023-10-14T04:56:52.543636Z",
          "iopub.execute_input": "2023-10-14T04:56:52.544039Z",
          "iopub.status.idle": "2023-10-14T04:56:52.551483Z",
          "shell.execute_reply.started": "2023-10-14T04:56:52.54401Z",
          "shell.execute_reply": "2023-10-14T04:56:52.549939Z"
        },
        "trusted": true,
        "id": "05GLO3huaYi3"
      },
      "outputs": [],
      "execution_count": null
    },
    {
      "cell_type": "code",
      "source": [
        "df.dropna()"
      ],
      "metadata": {
        "execution": {
          "iopub.status.busy": "2023-10-14T04:57:04.641146Z",
          "iopub.execute_input": "2023-10-14T04:57:04.641909Z",
          "iopub.status.idle": "2023-10-14T04:57:04.655382Z",
          "shell.execute_reply.started": "2023-10-14T04:57:04.641879Z",
          "shell.execute_reply": "2023-10-14T04:57:04.654555Z"
        },
        "trusted": true,
        "id": "ON2iarMqaYi3"
      },
      "outputs": [],
      "execution_count": null
    },
    {
      "cell_type": "code",
      "source": [
        "from sklearn.preprocessing import LabelEncoder\n",
        "lm = LabelEncoder()\n",
        "\n",
        "df['Sex'] = lm.fit_transform(df['Sex'])"
      ],
      "metadata": {
        "execution": {
          "iopub.status.busy": "2023-10-14T04:57:19.598632Z",
          "iopub.execute_input": "2023-10-14T04:57:19.599549Z",
          "iopub.status.idle": "2023-10-14T04:57:19.678617Z",
          "shell.execute_reply.started": "2023-10-14T04:57:19.599519Z",
          "shell.execute_reply": "2023-10-14T04:57:19.677293Z"
        },
        "trusted": true,
        "id": "9Uz1sw2BaYi3"
      },
      "outputs": [],
      "execution_count": null
    },
    {
      "cell_type": "code",
      "source": [
        "df.head()"
      ],
      "metadata": {
        "execution": {
          "iopub.status.busy": "2023-10-14T04:57:30.535402Z",
          "iopub.execute_input": "2023-10-14T04:57:30.535688Z",
          "iopub.status.idle": "2023-10-14T04:57:30.546349Z",
          "shell.execute_reply.started": "2023-10-14T04:57:30.535666Z",
          "shell.execute_reply": "2023-10-14T04:57:30.545135Z"
        },
        "trusted": true,
        "id": "JxZUC6O3aYi3"
      },
      "outputs": [],
      "execution_count": null
    },
    {
      "cell_type": "code",
      "source": [
        "df_dummy = pd.get_dummies(df['Embarked'], drop_first = True)\n",
        "print(df_dummy)"
      ],
      "metadata": {
        "execution": {
          "iopub.status.busy": "2023-10-14T04:59:45.132499Z",
          "iopub.execute_input": "2023-10-14T04:59:45.132851Z",
          "iopub.status.idle": "2023-10-14T04:59:45.140638Z",
          "shell.execute_reply.started": "2023-10-14T04:59:45.132826Z",
          "shell.execute_reply": "2023-10-14T04:59:45.13977Z"
        },
        "trusted": true,
        "id": "YTZTMV4taYi4"
      },
      "outputs": [],
      "execution_count": null
    },
    {
      "cell_type": "code",
      "source": [
        "data = pd.concat([df, df_dummy], axis=1)\n",
        "data"
      ],
      "metadata": {
        "execution": {
          "iopub.status.busy": "2023-10-14T04:57:52.088973Z",
          "iopub.execute_input": "2023-10-14T04:57:52.08927Z",
          "iopub.status.idle": "2023-10-14T04:57:52.102385Z",
          "shell.execute_reply.started": "2023-10-14T04:57:52.089247Z",
          "shell.execute_reply": "2023-10-14T04:57:52.101859Z"
        },
        "trusted": true,
        "id": "k7nsQU12aYi4"
      },
      "outputs": [],
      "execution_count": null
    },
    {
      "cell_type": "code",
      "source": [
        "data.drop('Embarked', axis=1)"
      ],
      "metadata": {
        "execution": {
          "iopub.status.busy": "2023-10-14T05:01:28.108834Z",
          "iopub.execute_input": "2023-10-14T05:01:28.109188Z",
          "iopub.status.idle": "2023-10-14T05:01:28.126125Z",
          "shell.execute_reply.started": "2023-10-14T05:01:28.109164Z",
          "shell.execute_reply": "2023-10-14T05:01:28.124858Z"
        },
        "trusted": true,
        "id": "8wwD3-6MaYi4"
      },
      "outputs": [],
      "execution_count": null
    },
    {
      "cell_type": "code",
      "source": [
        "data['Q']=data['Q'].astype('category')\n",
        "data['Q']=data['Q'].cat.codes\n",
        "\n",
        "data['S']=data['S'].astype('category')\n",
        "data['S']=data['S'].cat.codes"
      ],
      "metadata": {
        "execution": {
          "iopub.status.busy": "2023-10-14T05:01:30.689583Z",
          "iopub.execute_input": "2023-10-14T05:01:30.689952Z",
          "iopub.status.idle": "2023-10-14T05:01:30.698648Z",
          "shell.execute_reply.started": "2023-10-14T05:01:30.689925Z",
          "shell.execute_reply": "2023-10-14T05:01:30.696833Z"
        },
        "trusted": true,
        "id": "DfgRILelaYi4"
      },
      "outputs": [],
      "execution_count": null
    },
    {
      "cell_type": "code",
      "source": [
        "data.head()"
      ],
      "metadata": {
        "execution": {
          "iopub.status.busy": "2023-10-14T05:01:33.253295Z",
          "iopub.execute_input": "2023-10-14T05:01:33.253571Z",
          "iopub.status.idle": "2023-10-14T05:01:33.264892Z",
          "shell.execute_reply.started": "2023-10-14T05:01:33.253553Z",
          "shell.execute_reply": "2023-10-14T05:01:33.263202Z"
        },
        "trusted": true,
        "id": "Kh8jKxryaYi4"
      },
      "outputs": [],
      "execution_count": null
    },
    {
      "cell_type": "code",
      "source": [
        "columns_to_include = data.drop(columns=['Embarked'])\n",
        "corr = columns_to_include.corr()\n",
        "corr"
      ],
      "metadata": {
        "execution": {
          "iopub.status.busy": "2023-10-14T05:03:14.386914Z",
          "iopub.execute_input": "2023-10-14T05:03:14.387258Z",
          "iopub.status.idle": "2023-10-14T05:03:14.4032Z",
          "shell.execute_reply.started": "2023-10-14T05:03:14.387232Z",
          "shell.execute_reply": "2023-10-14T05:03:14.401842Z"
        },
        "trusted": true,
        "id": "M8q5lDW-aYi4"
      },
      "outputs": [],
      "execution_count": null
    },
    {
      "cell_type": "code",
      "source": [
        "sns.heatmap(corr,annot=True)"
      ],
      "metadata": {
        "execution": {
          "iopub.status.busy": "2023-10-14T05:03:27.77963Z",
          "iopub.execute_input": "2023-10-14T05:03:27.779953Z",
          "iopub.status.idle": "2023-10-14T05:03:28.23646Z",
          "shell.execute_reply.started": "2023-10-14T05:03:27.779925Z",
          "shell.execute_reply": "2023-10-14T05:03:28.235708Z"
        },
        "trusted": true,
        "id": "d6mFrpNgaYi5"
      },
      "outputs": [],
      "execution_count": null
    },
    {
      "cell_type": "code",
      "source": [
        "data['Survived'].value_counts().plot(kind='bar', color='green')"
      ],
      "metadata": {
        "execution": {
          "iopub.status.busy": "2023-10-14T05:03:39.458083Z",
          "iopub.execute_input": "2023-10-14T05:03:39.458403Z",
          "iopub.status.idle": "2023-10-14T05:03:39.642119Z",
          "shell.execute_reply.started": "2023-10-14T05:03:39.458382Z",
          "shell.execute_reply": "2023-10-14T05:03:39.640984Z"
        },
        "trusted": true,
        "id": "S4pqmaNfaYi5"
      },
      "outputs": [],
      "execution_count": null
    },
    {
      "cell_type": "code",
      "source": [
        "x = data.iloc[:,1:]\n",
        "y= data.iloc[:,0]"
      ],
      "metadata": {
        "execution": {
          "iopub.status.busy": "2023-10-14T05:03:58.512901Z",
          "iopub.execute_input": "2023-10-14T05:03:58.513189Z",
          "iopub.status.idle": "2023-10-14T05:03:58.517808Z",
          "shell.execute_reply.started": "2023-10-14T05:03:58.513168Z",
          "shell.execute_reply": "2023-10-14T05:03:58.517007Z"
        },
        "trusted": true,
        "id": "m49_JLiAaYi5"
      },
      "outputs": [],
      "execution_count": null
    },
    {
      "cell_type": "code",
      "source": [
        "x.head()"
      ],
      "metadata": {
        "execution": {
          "iopub.status.busy": "2023-10-14T05:04:10.456989Z",
          "iopub.execute_input": "2023-10-14T05:04:10.457358Z",
          "iopub.status.idle": "2023-10-14T05:04:10.468977Z",
          "shell.execute_reply.started": "2023-10-14T05:04:10.457329Z",
          "shell.execute_reply": "2023-10-14T05:04:10.467788Z"
        },
        "trusted": true,
        "id": "oCVibrHbaYi5"
      },
      "outputs": [],
      "execution_count": null
    },
    {
      "cell_type": "code",
      "source": [
        "y.head()"
      ],
      "metadata": {
        "execution": {
          "iopub.status.busy": "2023-10-14T05:04:16.619282Z",
          "iopub.execute_input": "2023-10-14T05:04:16.619693Z",
          "iopub.status.idle": "2023-10-14T05:04:16.629354Z",
          "shell.execute_reply.started": "2023-10-14T05:04:16.619657Z",
          "shell.execute_reply": "2023-10-14T05:04:16.62863Z"
        },
        "trusted": true,
        "id": "I4So9MfcaYi5"
      },
      "outputs": [],
      "execution_count": null
    },
    {
      "cell_type": "code",
      "source": [
        "x.drop('Embarked', axis=1, inplace =True)"
      ],
      "metadata": {
        "execution": {
          "iopub.status.busy": "2023-10-14T05:04:26.094623Z",
          "iopub.execute_input": "2023-10-14T05:04:26.094968Z",
          "iopub.status.idle": "2023-10-14T05:04:26.101277Z",
          "shell.execute_reply.started": "2023-10-14T05:04:26.094943Z",
          "shell.execute_reply": "2023-10-14T05:04:26.100124Z"
        },
        "trusted": true,
        "id": "69skxBUwaYi5"
      },
      "outputs": [],
      "execution_count": null
    },
    {
      "cell_type": "code",
      "source": [
        "y.value_counts()"
      ],
      "metadata": {
        "execution": {
          "iopub.status.busy": "2023-10-14T05:04:50.450364Z",
          "iopub.execute_input": "2023-10-14T05:04:50.45068Z",
          "iopub.status.idle": "2023-10-14T05:04:50.458563Z",
          "shell.execute_reply.started": "2023-10-14T05:04:50.450656Z",
          "shell.execute_reply": "2023-10-14T05:04:50.457367Z"
        },
        "trusted": true,
        "id": "7HrVVLDfaYi5"
      },
      "outputs": [],
      "execution_count": null
    },
    {
      "cell_type": "code",
      "source": [
        "from sklearn.preprocessing import StandardScaler\n",
        "scaler = StandardScaler()\n",
        "x = scaler.fit_transform(x)"
      ],
      "metadata": {
        "execution": {
          "iopub.status.busy": "2023-10-14T05:05:03.680375Z",
          "iopub.execute_input": "2023-10-14T05:05:03.680724Z",
          "iopub.status.idle": "2023-10-14T05:05:03.690005Z",
          "shell.execute_reply.started": "2023-10-14T05:05:03.680695Z",
          "shell.execute_reply": "2023-10-14T05:05:03.688796Z"
        },
        "trusted": true,
        "id": "GwKW5bZAaYi5"
      },
      "outputs": [],
      "execution_count": null
    },
    {
      "cell_type": "code",
      "source": [
        "x =pd.DataFrame(x)\n",
        "x"
      ],
      "metadata": {
        "execution": {
          "iopub.status.busy": "2023-10-14T05:05:14.961958Z",
          "iopub.execute_input": "2023-10-14T05:05:14.962288Z",
          "iopub.status.idle": "2023-10-14T05:05:14.975338Z",
          "shell.execute_reply.started": "2023-10-14T05:05:14.962264Z",
          "shell.execute_reply": "2023-10-14T05:05:14.974008Z"
        },
        "trusted": true,
        "id": "epsMkyr3aYi6"
      },
      "outputs": [],
      "execution_count": null
    },
    {
      "cell_type": "code",
      "source": [
        "from sklearn.tree import DecisionTreeClassifier\n",
        "from sklearn.model_selection import train_test_split\n",
        "from sklearn.metrics import accuracy_score"
      ],
      "metadata": {
        "execution": {
          "iopub.status.busy": "2023-10-14T05:05:45.309056Z",
          "iopub.execute_input": "2023-10-14T05:05:45.309373Z",
          "iopub.status.idle": "2023-10-14T05:05:45.684457Z",
          "shell.execute_reply.started": "2023-10-14T05:05:45.30935Z",
          "shell.execute_reply": "2023-10-14T05:05:45.683543Z"
        },
        "trusted": true,
        "id": "Gp71KJjoaYi6"
      },
      "outputs": [],
      "execution_count": null
    },
    {
      "cell_type": "code",
      "source": [
        "x_train,x_test,y_train,y_test = train_test_split(x,y,test_size =0.3,random_state=101,stratify=y)"
      ],
      "metadata": {
        "execution": {
          "iopub.status.busy": "2023-10-14T05:05:47.526015Z",
          "iopub.execute_input": "2023-10-14T05:05:47.526328Z",
          "iopub.status.idle": "2023-10-14T05:05:47.534069Z",
          "shell.execute_reply.started": "2023-10-14T05:05:47.526305Z",
          "shell.execute_reply": "2023-10-14T05:05:47.532796Z"
        },
        "trusted": true,
        "id": "jS3iPt9caYi6"
      },
      "outputs": [],
      "execution_count": null
    },
    {
      "cell_type": "code",
      "source": [
        "deci = DecisionTreeClassifier()\n",
        "deci=deci.fit(x_train,y_train)"
      ],
      "metadata": {
        "execution": {
          "iopub.status.busy": "2023-10-14T05:06:01.837547Z",
          "iopub.execute_input": "2023-10-14T05:06:01.837907Z",
          "iopub.status.idle": "2023-10-14T05:06:01.847711Z",
          "shell.execute_reply.started": "2023-10-14T05:06:01.837879Z",
          "shell.execute_reply": "2023-10-14T05:06:01.846751Z"
        },
        "trusted": true,
        "id": "c-tSs3qAaYi6"
      },
      "outputs": [],
      "execution_count": null
    },
    {
      "cell_type": "code",
      "source": [
        "from sklearn import tree\n",
        "plt.figure(figsize=(15,10))\n",
        "tree.plot_tree(deci,filled=True)"
      ],
      "metadata": {
        "execution": {
          "iopub.status.busy": "2023-10-14T05:06:09.561122Z",
          "iopub.execute_input": "2023-10-14T05:06:09.561479Z",
          "iopub.status.idle": "2023-10-14T05:06:15.933151Z",
          "shell.execute_reply.started": "2023-10-14T05:06:09.561454Z",
          "shell.execute_reply": "2023-10-14T05:06:15.931539Z"
        },
        "trusted": true,
        "id": "xlPrXL_eaYi6"
      },
      "outputs": [],
      "execution_count": null
    },
    {
      "cell_type": "code",
      "source": [
        "y_Pred = deci.predict(x_test)\n",
        "y_Pred"
      ],
      "metadata": {
        "execution": {
          "iopub.status.busy": "2023-10-14T05:06:47.453286Z",
          "iopub.execute_input": "2023-10-14T05:06:47.453584Z",
          "iopub.status.idle": "2023-10-14T05:06:47.462059Z",
          "shell.execute_reply.started": "2023-10-14T05:06:47.45356Z",
          "shell.execute_reply": "2023-10-14T05:06:47.460958Z"
        },
        "trusted": true,
        "id": "gn2DVcpUaYi6"
      },
      "outputs": [],
      "execution_count": null
    },
    {
      "cell_type": "code",
      "source": [
        "from sklearn.metrics import accuracy_score\n",
        "accuracy_train = accuracy_score(y_train, deci.predict(x_train))\n",
        "print(\"Accuracy on Training Data:\", accuracy_train)\n",
        "\n",
        "accuracy_test = accuracy_score(y_test, y_Pred)\n",
        "print(\"Accuracy on Test Data:\", accuracy_test)"
      ],
      "metadata": {
        "execution": {
          "iopub.status.busy": "2023-10-14T05:07:10.43638Z",
          "iopub.execute_input": "2023-10-14T05:07:10.436724Z",
          "iopub.status.idle": "2023-10-14T05:07:10.448549Z",
          "shell.execute_reply.started": "2023-10-14T05:07:10.436698Z",
          "shell.execute_reply": "2023-10-14T05:07:10.446765Z"
        },
        "trusted": true,
        "id": "MC5GuZBxaYi7"
      },
      "outputs": [],
      "execution_count": null
    },
    {
      "cell_type": "code",
      "source": [
        "from sklearn.metrics import confusion_matrix, classification_report, accuracy_score\n",
        "\n",
        "print(confusion_matrix(y_train,deci.predict(x_train)))\n",
        "print()\n",
        "print(confusion_matrix(y_test,y_Pred))"
      ],
      "metadata": {
        "execution": {
          "iopub.status.busy": "2023-10-14T05:07:20.131676Z",
          "iopub.execute_input": "2023-10-14T05:07:20.132147Z",
          "iopub.status.idle": "2023-10-14T05:07:20.143884Z",
          "shell.execute_reply.started": "2023-10-14T05:07:20.132116Z",
          "shell.execute_reply": "2023-10-14T05:07:20.14223Z"
        },
        "trusted": true,
        "id": "_nqCXr5LaYi7"
      },
      "outputs": [],
      "execution_count": null
    },
    {
      "cell_type": "code",
      "source": [
        "print(classification_report(y_train,deci.predict(x_train)))\n",
        "print()\n",
        "print(classification_report(y_test,y_Pred))"
      ],
      "metadata": {
        "execution": {
          "iopub.status.busy": "2023-10-14T05:07:30.110821Z",
          "iopub.execute_input": "2023-10-14T05:07:30.111186Z",
          "iopub.status.idle": "2023-10-14T05:07:30.130379Z",
          "shell.execute_reply.started": "2023-10-14T05:07:30.111165Z",
          "shell.execute_reply": "2023-10-14T05:07:30.12838Z"
        },
        "trusted": true,
        "id": "Nbw9-6XSaYi7"
      },
      "outputs": [],
      "execution_count": null
    },
    {
      "cell_type": "code",
      "source": [
        "prune=DecisionTreeClassifier(max_depth=5, max_leaf_nodes=25, random_state=101)\n",
        "\n",
        "prune_tree = prune.fit(x_train,y_train)"
      ],
      "metadata": {
        "execution": {
          "iopub.status.busy": "2023-10-14T05:07:42.512915Z",
          "iopub.execute_input": "2023-10-14T05:07:42.51324Z",
          "iopub.status.idle": "2023-10-14T05:07:42.520727Z",
          "shell.execute_reply.started": "2023-10-14T05:07:42.51322Z",
          "shell.execute_reply": "2023-10-14T05:07:42.519991Z"
        },
        "trusted": true,
        "id": "xzPtGfr2aYi7"
      },
      "outputs": [],
      "execution_count": null
    },
    {
      "cell_type": "code",
      "source": [
        "pred_prune = prune_tree.predict(x_test)"
      ],
      "metadata": {
        "execution": {
          "iopub.status.busy": "2023-10-14T05:07:52.710523Z",
          "iopub.execute_input": "2023-10-14T05:07:52.710876Z",
          "iopub.status.idle": "2023-10-14T05:07:52.717815Z",
          "shell.execute_reply.started": "2023-10-14T05:07:52.71085Z",
          "shell.execute_reply": "2023-10-14T05:07:52.716627Z"
        },
        "trusted": true,
        "id": "SerbwPaFaYjA"
      },
      "outputs": [],
      "execution_count": null
    },
    {
      "cell_type": "code",
      "source": [
        "plt.figure(figsize=(15,10))\n",
        "tree.plot_tree(prune_tree,filled=True)"
      ],
      "metadata": {
        "execution": {
          "iopub.status.busy": "2023-10-14T05:08:29.351297Z",
          "iopub.execute_input": "2023-10-14T05:08:29.351668Z",
          "iopub.status.idle": "2023-10-14T05:08:30.827302Z",
          "shell.execute_reply.started": "2023-10-14T05:08:29.351637Z",
          "shell.execute_reply": "2023-10-14T05:08:30.826483Z"
        },
        "trusted": true,
        "id": "IIWWPwCjaYjA"
      },
      "outputs": [],
      "execution_count": null
    },
    {
      "cell_type": "code",
      "source": [
        "print(confusion_matrix(y_train,prune_tree.predict(x_train)))\n",
        "print()\n",
        "print(confusion_matrix(y_test,pred_prune))"
      ],
      "metadata": {
        "execution": {
          "iopub.status.busy": "2023-10-14T05:09:02.057094Z",
          "iopub.execute_input": "2023-10-14T05:09:02.057424Z",
          "iopub.status.idle": "2023-10-14T05:09:02.06833Z",
          "shell.execute_reply.started": "2023-10-14T05:09:02.057398Z",
          "shell.execute_reply": "2023-10-14T05:09:02.066788Z"
        },
        "trusted": true,
        "id": "Zw1qgmGUaYjA"
      },
      "outputs": [],
      "execution_count": null
    },
    {
      "cell_type": "code",
      "source": [
        "accuracy_train = accuracy_score(y_train, prune_tree.predict(x_train))\n",
        "print(\"Accuracy on Training Data:\", accuracy_train)\n",
        "\n",
        "accuracy_test = accuracy_score(y_test, pred_prune)\n",
        "print(\"Accuracy on Test Data:\", accuracy_test)"
      ],
      "metadata": {
        "execution": {
          "iopub.status.busy": "2023-10-14T05:09:13.491662Z",
          "iopub.execute_input": "2023-10-14T05:09:13.492028Z",
          "iopub.status.idle": "2023-10-14T05:09:13.502033Z",
          "shell.execute_reply.started": "2023-10-14T05:09:13.492003Z",
          "shell.execute_reply": "2023-10-14T05:09:13.500884Z"
        },
        "trusted": true,
        "id": "eIYT_FObaYjA"
      },
      "outputs": [],
      "execution_count": null
    },
    {
      "cell_type": "code",
      "source": [
        "input_data = (0.827377,0.737695,0.432793,-0.473674,-0.502445,-0.307562,0.619306)\n",
        "\n",
        "input_data_array = np.asarray(input_data)\n",
        "\n",
        "input_data_array_reshaped = input_data_array.reshape(1,-1)\n",
        "\n",
        "pred = prune_tree.predict(input_data_array_reshaped)\n",
        "\n",
        "print(pred)\n",
        "\n",
        "if (pred[0] ==0):\n",
        "    print('THE PASSANGER HAS NOT SURVIVED')\n",
        "else:\n",
        "    print('THE PASSANGER HAS SURVIED')"
      ],
      "metadata": {
        "execution": {
          "iopub.status.busy": "2023-10-14T05:09:27.61871Z",
          "iopub.execute_input": "2023-10-14T05:09:27.619111Z",
          "iopub.status.idle": "2023-10-14T05:09:27.625557Z",
          "shell.execute_reply.started": "2023-10-14T05:09:27.619085Z",
          "shell.execute_reply": "2023-10-14T05:09:27.624612Z"
        },
        "trusted": true,
        "id": "FxkS1FMKaYjB"
      },
      "outputs": [],
      "execution_count": null
    },
    {
      "cell_type": "code",
      "source": [],
      "metadata": {
        "id": "_a05u7ucaYjB"
      },
      "outputs": [],
      "execution_count": null
    }
  ]
}